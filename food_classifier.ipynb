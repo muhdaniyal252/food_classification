{
  "cells": [
    {
      "cell_type": "code",
      "execution_count": null,
      "metadata": {
        "id": "G-TVHRPD2zbz"
      },
      "outputs": [],
      "source": [
        "!pip install -q kaggle"
      ]
    },
    {
      "cell_type": "code",
      "execution_count": null,
      "metadata": {
        "id": "pYnTCeaTPHVV"
      },
      "outputs": [],
      "source": [
        "with open('kaggle.json','w') as f:\n",
        "  f.write('{\"username\":\"\",\"key\":\"\"}')"
      ]
    },
    {
      "cell_type": "code",
      "execution_count": null,
      "metadata": {
        "id": "IZudyjhh3BIW"
      },
      "outputs": [],
      "source": [
        "!mkdir ~/.kaggle "
      ]
    },
    {
      "cell_type": "code",
      "execution_count": null,
      "metadata": {
        "id": "bXlRYabl3Ex8"
      },
      "outputs": [],
      "source": [
        "!cp kaggle.json ~/.kaggle/"
      ]
    },
    {
      "cell_type": "code",
      "execution_count": null,
      "metadata": {
        "id": "-n7zGccv3HhH"
      },
      "outputs": [],
      "source": [
        "!chmod 600 ~/.kaggle/kaggle.json"
      ]
    },
    {
      "cell_type": "code",
      "execution_count": null,
      "metadata": {
        "colab": {
          "base_uri": "https://localhost:8080/"
        },
        "id": "-4uSXWS83KCf",
        "outputId": "f87fd53d-c6c9-443d-fc1b-0a2cc2781853"
      },
      "outputs": [
        {
          "name": "stdout",
          "output_type": "stream",
          "text": [
            "Downloading fast-food-classification-dataset.zip to /content\n",
            "100% 821M/821M [00:36<00:00, 25.0MB/s]\n",
            "100% 821M/821M [00:36<00:00, 23.6MB/s]\n"
          ]
        }
      ],
      "source": [
        "!kaggle datasets download -d utkarshsaxenadn/fast-food-classification-dataset"
      ]
    },
    {
      "cell_type": "code",
      "execution_count": null,
      "metadata": {
        "colab": {
          "base_uri": "https://localhost:8080/"
        },
        "id": "KYtQfWb3D7al",
        "outputId": "89d7b3b5-5886-4497-c5e0-3251648ffdac"
      },
      "outputs": [],
      "source": [
        "!unzip fast-food-classification-dataset.zip"
      ]
    },
    {
      "cell_type": "code",
      "execution_count": 1,
      "metadata": {
        "id": "-8cFVSe614lV"
      },
      "outputs": [
        {
          "name": "stderr",
          "output_type": "stream",
          "text": [
            "2022-12-22 00:08:04.888372: I tensorflow/core/platform/cpu_feature_guard.cc:193] This TensorFlow binary is optimized with oneAPI Deep Neural Network Library (oneDNN) to use the following CPU instructions in performance-critical operations:  AVX2 AVX512F AVX512_VNNI FMA\n",
            "To enable them in other operations, rebuild TensorFlow with the appropriate compiler flags.\n",
            "2022-12-22 00:08:05.447717: I tensorflow/core/util/port.cc:104] oneDNN custom operations are on. You may see slightly different numerical results due to floating-point round-off errors from different computation orders. To turn them off, set the environment variable `TF_ENABLE_ONEDNN_OPTS=0`.\n",
            "2022-12-22 00:08:07.055541: W tensorflow/compiler/xla/stream_executor/platform/default/dso_loader.cc:64] Could not load dynamic library 'libnvinfer.so.7'; dlerror: libnvinfer.so.7: cannot open shared object file: No such file or directory; LD_LIBRARY_PATH: /home/daniyal/working/envs/tnt/lib/python3.10/site-packages/cv2/../../lib64:\n",
            "2022-12-22 00:08:07.056018: W tensorflow/compiler/xla/stream_executor/platform/default/dso_loader.cc:64] Could not load dynamic library 'libnvinfer_plugin.so.7'; dlerror: libnvinfer_plugin.so.7: cannot open shared object file: No such file or directory; LD_LIBRARY_PATH: /home/daniyal/working/envs/tnt/lib/python3.10/site-packages/cv2/../../lib64:\n",
            "2022-12-22 00:08:07.056030: W tensorflow/compiler/tf2tensorrt/utils/py_utils.cc:38] TF-TRT Warning: Cannot dlopen some TensorRT libraries. If you would like to use Nvidia GPU with TensorRT, please make sure the missing libraries mentioned above are installed properly.\n"
          ]
        }
      ],
      "source": [
        "import os\n",
        "import random\n",
        "import cv2\n",
        "import numpy as np\n",
        "import tensorflow as tf\n",
        "import matplotlib.pyplot as plt\n",
        "import seaborn as sns\n",
        "import pickle\n",
        "%matplotlib inline"
      ]
    },
    {
      "cell_type": "code",
      "execution_count": 2,
      "metadata": {
        "id": "J1OmdRekEVl_"
      },
      "outputs": [],
      "source": [
        "pth = 'Fast Food Classification V2'"
      ]
    },
    {
      "cell_type": "code",
      "execution_count": 3,
      "metadata": {
        "id": "VZOXwhph2Lgc"
      },
      "outputs": [],
      "source": [
        "categories = {i:j for i,j in enumerate(os.listdir(f'{pth}/Train'))}\n",
        "img_size = 250\n",
        "batch_size = 32\n",
        "input_shape = [img_size,img_size,1]"
      ]
    },
    {
      "cell_type": "code",
      "execution_count": 4,
      "metadata": {
        "id": "zZdNFr0rEeU1"
      },
      "outputs": [],
      "source": [
        "def load_data(path):\n",
        "    data = list()\n",
        "    for idx, folder in categories.items():\n",
        "        folder_path = os.path.join(path,folder)\n",
        "        images = os.listdir(folder_path)\n",
        "        images = [os.path.join(folder_path,image) for image in images]\n",
        "        for image in images:\n",
        "            data.append([image,idx])\n",
        "    return data"
      ]
    },
    {
      "cell_type": "code",
      "execution_count": 5,
      "metadata": {
        "id": "f8gp5Ez7EhjZ"
      },
      "outputs": [],
      "source": [
        "train = load_data(f'{pth}/Train')\n",
        "test = load_data(f'{pth}/Test')\n",
        "evall = load_data(f'{pth}/Valid')"
      ]
    },
    {
      "cell_type": "code",
      "execution_count": 14,
      "metadata": {},
      "outputs": [],
      "source": [
        "with open('objects.pickle','wb') as objs:\n",
        "    pickle.dump(categories,objs)"
      ]
    },
    {
      "cell_type": "code",
      "execution_count": null,
      "metadata": {
        "id": "EuXnfHTFElEh"
      },
      "outputs": [],
      "source": [
        "random.shuffle(train)\n",
        "random.shuffle(test)\n",
        "random.shuffle(evall)\n",
        "random.shuffle(train)\n",
        "random.shuffle(test)\n",
        "random.shuffle(evall)"
      ]
    },
    {
      "cell_type": "code",
      "execution_count": null,
      "metadata": {
        "id": "vz-zKVl7WxI3"
      },
      "outputs": [],
      "source": [
        "class DataSequence(tf.keras.utils.Sequence):\n",
        "\n",
        "    def __init__(self,data,batch_size):\n",
        "        self.data = data\n",
        "        self.batch_size = batch_size\n",
        "    \n",
        "    def __len__(self):\n",
        "        return int(np.ceil(len(self.data) / self.batch_size))\n",
        "\n",
        "    def __getitem__(self,idx):\n",
        "        batch = self.data[idx * self.batch_size : (idx + 1) * self.batch_size]\n",
        "        return self.data_gen(batch)\n",
        "\n",
        "    def data_gen(self,data):\n",
        "        images,labels = list(),list()\n",
        "        for image,label in data:\n",
        "            img = cv2.imread(image,cv2.IMREAD_GRAYSCALE)\n",
        "            img = cv2.resize(img,(img_size,img_size))\n",
        "            img = img.reshape(*input_shape)\n",
        "            img = img/255\n",
        "            images.append(img)\n",
        "            labels.append(label)\n",
        "        return np.array(images),np.array(labels)"
      ]
    },
    {
      "cell_type": "code",
      "execution_count": null,
      "metadata": {
        "id": "69H4rnhEbRKU"
      },
      "outputs": [],
      "source": [
        "train_data = DataSequence(train,batch_size)\n",
        "test_data = DataSequence(test,1)\n",
        "eval_data = DataSequence(evall,batch_size)"
      ]
    },
    {
      "cell_type": "code",
      "execution_count": null,
      "metadata": {
        "id": "GWNpZmiyE5Sc"
      },
      "outputs": [],
      "source": [
        "data_augmentation = tf.keras.Sequential([\n",
        "    tf.keras.layers.experimental.preprocessing.RandomFlip('horizontal',name='Random_Flip'),\n",
        "    tf.keras.layers.experimental.preprocessing.RandomRotation(0.1,name='Random_Rotation'),\n",
        "    tf.keras.layers.experimental.preprocessing.RandomZoom(0.1,name='Random_Zoom'),\n",
        "])\n",
        "model = tf.keras.Sequential([\n",
        "    tf.keras.layers.Input(shape=[200,200,1],name='Input_Layer'),\n",
        "    data_augmentation,\n",
        "\n",
        "    # tf.keras.layers.Conv2D(32,kernel_size=(3,3),name='Conv_Layer_1'),\n",
        "    # tf.keras.layers.Activation('relu',name='Conv_Relu_1'),\n",
        "    # tf.keras.layers.MaxPool2D((3,3),name='Conv_Max_Pool_1'),\n",
        "\n",
        "    tf.keras.layers.Conv2D(64,kernel_size=(3,3),name='Conv_Layer_2'),\n",
        "    tf.keras.layers.Activation('relu',name='Conv_Relu_2'),\n",
        "    tf.keras.layers.MaxPool2D((3,3),name='Conv_Max_Pool_2'),\n",
        "\n",
        "    tf.keras.layers.Conv2D(128,kernel_size=(3,3),name='Conv_Layer_3'),\n",
        "    tf.keras.layers.Activation('relu',name='Conv_Relu_3'),\n",
        "    tf.keras.layers.MaxPool2D((3,3),name='Conv_Max_Pool_3'),\n",
        "\n",
        "    tf.keras.layers.Conv2D(256,kernel_size=(3,3),name='Conv_Layer_4'),\n",
        "    tf.keras.layers.Activation('relu',name='Conv_Relu_4'),\n",
        "    tf.keras.layers.MaxPool2D((3,3),name='Conv_Max_Pool_4'),\n",
        "\n",
        "    tf.keras.layers.Flatten(name='Flatten'),\n",
        "\n",
        "    tf.keras.layers.Dense(256,name='Dense_Layer_1'),\n",
        "    tf.keras.layers.Activation('relu',name='Dense_Relu_1'),\n",
        "    \n",
        "    tf.keras.layers.Dense(512,name='Dense_Layer_2'),\n",
        "    tf.keras.layers.Activation('relu',name='Dense_Relu_2'),\n",
        "\n",
        "    # tf.keras.layers.Dropout(0.2,name='Dropout_1'),\n",
        "\n",
        "    # tf.keras.layers.Dense(1024,name='Dense_Layer_3'),\n",
        "    # tf.keras.layers.Activation('relu',name='Dense_Relu_3'),\n",
        "    \n",
        "    tf.keras.layers.Dense(len(categories),name='Dense_Layer_2__Classifier'),\n",
        "    tf.keras.layers.Activation('softmax',name='Dense_Softman_1__Classifier_Activation'),\n",
        "])\n",
        "\n",
        "model.compile(\n",
        "    optimizer=tf.keras.optimizers.Adam(),\n",
        "    loss=tf.keras.losses.sparse_categorical_crossentropy,\n",
        "    metrics=['accuracy']\n",
        ")"
      ]
    },
    {
      "cell_type": "code",
      "execution_count": null,
      "metadata": {
        "colab": {
          "base_uri": "https://localhost:8080/"
        },
        "id": "4sYS_N5gE9fe",
        "outputId": "7d288fb6-b866-431d-9b23-03ed202a963b"
      },
      "outputs": [],
      "source": [
        "\n",
        "with tf.device('/gpu:0'):\n",
        "    history = model.fit(train_data,epochs=500,validation_data=eval_data,verbose=1)\n"
      ]
    },
    {
      "cell_type": "code",
      "execution_count": null,
      "metadata": {
        "id": "TcuaKUMoRjpt"
      },
      "outputs": [],
      "source": [
        "pred = model.predict(test_data)"
      ]
    },
    {
      "cell_type": "code",
      "execution_count": null,
      "metadata": {
        "id": "4IVZahM2yvvJ"
      },
      "outputs": [],
      "source": [
        "y_test = [i[1] for i in test_data]\n",
        "y_pred = [np.argmax(i) for i in pred]"
      ]
    },
    {
      "cell_type": "code",
      "execution_count": null,
      "metadata": {
        "id": "nafB5O8ozxuK"
      },
      "outputs": [],
      "source": [
        "conf_mat = tf.math.confusion_matrix(y_test,y_pred)"
      ]
    },
    {
      "cell_type": "code",
      "execution_count": null,
      "metadata": {
        "id": "TERAAT2cz4ra"
      },
      "outputs": [],
      "source": [
        "sns.heatmap(conf_mat)\n",
        "plt.show()"
      ]
    },
    {
      "cell_type": "code",
      "execution_count": null,
      "metadata": {
        "id": "6P8JKqZr0RQK"
      },
      "outputs": [],
      "source": [
        "model.save('food_classifier.h5')"
      ]
    },
    {
      "cell_type": "code",
      "execution_count": null,
      "metadata": {
        "id": "lZAbqjOF-QVN"
      },
      "outputs": [],
      "source": [
        "from google.colab import files\n",
        "files.download('food_classifier.h5') "
      ]
    },
    {
      "cell_type": "code",
      "execution_count": null,
      "metadata": {
        "id": "m2UMNUEYpCiT"
      },
      "outputs": [],
      "source": []
    }
  ],
  "metadata": {
    "accelerator": "GPU",
    "colab": {
      "provenance": []
    },
    "gpuClass": "standard",
    "kernelspec": {
      "display_name": "tnt",
      "language": "python",
      "name": "python3"
    },
    "language_info": {
      "codemirror_mode": {
        "name": "ipython",
        "version": 3
      },
      "file_extension": ".py",
      "mimetype": "text/x-python",
      "name": "python",
      "nbconvert_exporter": "python",
      "pygments_lexer": "ipython3",
      "version": "3.10.6 (main, Nov 14 2022, 16:10:14) [GCC 11.3.0]"
    },
    "vscode": {
      "interpreter": {
        "hash": "b3fb062af21cb1cc069990ca280613d76ee4b6e21f7d2204d621bae10d0f6602"
      }
    }
  },
  "nbformat": 4,
  "nbformat_minor": 0
}
