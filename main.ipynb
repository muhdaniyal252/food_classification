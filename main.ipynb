{
 "cells": [
  {
   "cell_type": "code",
   "execution_count": 1,
   "metadata": {},
   "outputs": [],
   "source": [
    "import os\n",
    "import random\n",
    "import cv2\n",
    "import numpy as np"
   ]
  },
  {
   "cell_type": "code",
   "execution_count": 2,
   "metadata": {},
   "outputs": [],
   "source": [
    "categories = {i:j for i,j in enumerate(os.listdir('food_data/Train'))}\n",
    "img_size = 200"
   ]
  },
  {
   "cell_type": "code",
   "execution_count": 3,
   "metadata": {},
   "outputs": [],
   "source": [
    "def load_data(path):\n",
    "    data = list()\n",
    "    folders = os.listdir(path)\n",
    "    for idx, folder in enumerate(folders):\n",
    "        folder_path = os.path.join(path,folder)\n",
    "        images = os.listdir(folder_path)\n",
    "        images = [os.path.join(folder_path,image) for image in images]\n",
    "        for image in images:\n",
    "            img = cv2.imread(image,cv2.IMREAD_GRAYSCALE)\n",
    "            img = cv2.resize(img,(img_size,img_size))\n",
    "            img = img/255\n",
    "            data.append([img,idx])\n",
    "    return data"
   ]
  },
  {
   "cell_type": "code",
   "execution_count": 4,
   "metadata": {},
   "outputs": [],
   "source": [
    "train = load_data('food_data/Train')\n",
    "test = load_data('food_data/Test')\n",
    "evall = load_data('food_data/Valid')"
   ]
  },
  {
   "cell_type": "code",
   "execution_count": 13,
   "metadata": {},
   "outputs": [],
   "source": [
    "random.shuffle(train)\n",
    "random.shuffle(test)\n",
    "random.shuffle(evall)\n",
    "random.shuffle(train)\n",
    "random.shuffle(test)\n",
    "random.shuffle(evall)"
   ]
  },
  {
   "cell_type": "code",
   "execution_count": 23,
   "metadata": {},
   "outputs": [
    {
     "name": "stderr",
     "output_type": "stream",
     "text": [
      "/tmp/ipykernel_2668/1635439100.py:2: VisibleDeprecationWarning: Creating an ndarray from ragged nested sequences (which is a list-or-tuple of lists-or-tuples-or ndarrays with different lengths or shapes) is deprecated. If you meant to do this, you must specify 'dtype=object' when creating the ndarray.\n",
      "  data = np.array(data)\n"
     ]
    },
    {
     "ename": "",
     "evalue": "",
     "output_type": "error",
     "traceback": [
      "\u001b[1;31mCanceled future for execute_request message before replies were done"
     ]
    },
    {
     "ename": "",
     "evalue": "",
     "output_type": "error",
     "traceback": [
      "\u001b[1;31mThe Kernel crashed while executing code in the the current cell or a previous cell. Please review the code in the cell(s) to identify a possible cause of the failure. Click <a href='https://aka.ms/vscodeJupyterKernelCrash'>here</a> for more info. View Jupyter <a href='command:jupyter.viewOutput'>log</a> for further details."
     ]
    }
   ],
   "source": [
    "def split_data(data):\n",
    "    x,y = list(),list()\n",
    "    for i,j in data:\n",
    "        x.append(i)\n",
    "        y.append(j)\n",
    "    return x,y\n",
    "\n",
    "x_train,y_train = split_data(train)\n",
    "x_test,y_test = split_data(test)\n",
    "x_eval,y_eval = split_data(evall)"
   ]
  },
  {
   "cell_type": "code",
   "execution_count": 20,
   "metadata": {},
   "outputs": [
    {
     "data": {
      "text/plain": [
       "0"
      ]
     },
     "execution_count": 20,
     "metadata": {},
     "output_type": "execute_result"
    }
   ],
   "source": []
  }
 ],
 "metadata": {
  "kernelspec": {
   "display_name": "Python 3.8.10 ('fd_cls')",
   "language": "python",
   "name": "python3"
  },
  "language_info": {
   "codemirror_mode": {
    "name": "ipython",
    "version": 3
   },
   "file_extension": ".py",
   "mimetype": "text/x-python",
   "name": "python",
   "nbconvert_exporter": "python",
   "pygments_lexer": "ipython3",
   "version": "3.8.10"
  },
  "orig_nbformat": 4,
  "vscode": {
   "interpreter": {
    "hash": "69a83fca47cfb9cea0000112e89976ca4fc0d0ddaadc8a8fcd515ea27b54c0b0"
   }
  }
 },
 "nbformat": 4,
 "nbformat_minor": 2
}
